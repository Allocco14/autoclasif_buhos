{
 "cells": [
  {
   "cell_type": "markdown",
   "metadata": {},
   "source": [
    "# Consolidador de respuestas"
   ]
  },
  {
   "cell_type": "code",
   "execution_count": 25,
   "metadata": {},
   "outputs": [],
   "source": [
    "import os\n",
    "import csv\n",
    "from pathlib import Path\n",
    "import pandas as pd\n",
    "import numpy as np\n",
    "\n",
    "\n",
    "# Crear un DataFrame con las respuestas de los estudiantes\n",
    "columns = ['Nombre'] + [ f'Pregunta {i}' for i in range(1, 121)]\n",
    "\n",
    "data_frame = pd.DataFrame(columns=columns)\n",
    "\n",
    "\n",
    "def map_answer(list):\n",
    "    if np.sum(list) != 1:\n",
    "        return 'X'\n",
    "    index = list.index(1)\n",
    "    return chr(65 + index)\n",
    "\n",
    "# Leer todos los archivos .csv\n",
    "path = Path(os.getcwd())\n",
    "\n",
    "csv_files = list(path.glob('*.csv'))\n",
    "\n",
    "for i, csv_file in enumerate(csv_files):\n",
    "    with open(csv_file, 'r') as file:\n",
    "        reader = csv.reader(file)\n",
    "        # Saltar el encabezado\n",
    "        next(reader)\n",
    "        data_frame.loc[i, 'Nombre'] = csv_file.stem\n",
    "        for j, row in enumerate(reader):\n",
    "            answer = list(map(int, row))\n",
    "            data_frame.loc[i, f'Pregunta {j+1}'] = map_answer(answer)\n",
    "\n",
    "            \n",
    "            \n",
    "data_frame.to_csv('respuestas.csv', index=False)\n",
    "            \n",
    "\n"
   ]
  },
  {
   "cell_type": "code",
   "execution_count": null,
   "metadata": {},
   "outputs": [],
   "source": []
  }
 ],
 "metadata": {
  "kernelspec": {
   "display_name": "venv",
   "language": "python",
   "name": "python3"
  },
  "language_info": {
   "codemirror_mode": {
    "name": "ipython",
    "version": 3
   },
   "file_extension": ".py",
   "mimetype": "text/x-python",
   "name": "python",
   "nbconvert_exporter": "python",
   "pygments_lexer": "ipython3",
   "version": "3.12.2"
  }
 },
 "nbformat": 4,
 "nbformat_minor": 2
}
